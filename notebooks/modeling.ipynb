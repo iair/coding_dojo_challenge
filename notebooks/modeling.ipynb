{
 "cells": [
  {
   "cell_type": "markdown",
   "metadata": {},
   "source": [
    "## Part 2: Modeling Instructions\n",
    "\n",
    "The online school has provided new data about the daily activities of each student on their learning platform, how early or late they completed each assessment, and which courses they were taking.  However, this has caused the data table to have over 900 columns.\n",
    "\n",
    "They would now like you to use this data to predict which students will pass the course and which will fail.\n",
    "\n",
    "passed_course is your target variable"
   ]
  },
  {
   "cell_type": "markdown",
   "metadata": {},
   "source": [
    "### Load Data"
   ]
  },
  {
   "cell_type": "code",
   "execution_count": 1,
   "metadata": {},
   "outputs": [],
   "source": [
    "\n",
    "import pandas as pd\n",
    "import numpy as np\n",
    "import matplotlib.pyplot as plt\n",
    "import seaborn as sns\n",
    "from utils import *\n",
    "from sklearn.preprocessing import StandardScaler\n",
    "from sklearn.model_selection import train_test_split\n",
    "from sklearn.decomposition import PCA"
   ]
  },
  {
   "cell_type": "code",
   "execution_count": 2,
   "metadata": {},
   "outputs": [
    {
     "name": "stdout",
     "output_type": "stream",
     "text": [
      "(12737, 931)\n"
     ]
    },
    {
     "data": {
      "text/html": [
       "<div>\n",
       "<style scoped>\n",
       "    .dataframe tbody tr th:only-of-type {\n",
       "        vertical-align: middle;\n",
       "    }\n",
       "\n",
       "    .dataframe tbody tr th {\n",
       "        vertical-align: top;\n",
       "    }\n",
       "\n",
       "    .dataframe thead th {\n",
       "        text-align: right;\n",
       "    }\n",
       "</style>\n",
       "<table border=\"1\" class=\"dataframe\">\n",
       "  <thead>\n",
       "    <tr style=\"text-align: right;\">\n",
       "      <th></th>\n",
       "      <th>gender</th>\n",
       "      <th>highest_education</th>\n",
       "      <th>imd_band</th>\n",
       "      <th>age_band</th>\n",
       "      <th>num_of_prev_attempts</th>\n",
       "      <th>studied_credits</th>\n",
       "      <th>disability</th>\n",
       "      <th>passed_course</th>\n",
       "      <th>assess_score_1</th>\n",
       "      <th>assess_score_2</th>\n",
       "      <th>...</th>\n",
       "      <th>module_CCC</th>\n",
       "      <th>module_DDD</th>\n",
       "      <th>module_EEE</th>\n",
       "      <th>module_FFF</th>\n",
       "      <th>module_GGG</th>\n",
       "      <th>presentation_0</th>\n",
       "      <th>presentation_2013B</th>\n",
       "      <th>presentation_2013J</th>\n",
       "      <th>presentation_2014B</th>\n",
       "      <th>presentation_2014J</th>\n",
       "    </tr>\n",
       "  </thead>\n",
       "  <tbody>\n",
       "    <tr>\n",
       "      <th>0</th>\n",
       "      <td>1</td>\n",
       "      <td>2</td>\n",
       "      <td>9</td>\n",
       "      <td>2</td>\n",
       "      <td>0</td>\n",
       "      <td>240</td>\n",
       "      <td>0</td>\n",
       "      <td>1</td>\n",
       "      <td>78.0</td>\n",
       "      <td>85.0</td>\n",
       "      <td>...</td>\n",
       "      <td>0</td>\n",
       "      <td>0</td>\n",
       "      <td>0</td>\n",
       "      <td>0</td>\n",
       "      <td>0</td>\n",
       "      <td>0</td>\n",
       "      <td>0</td>\n",
       "      <td>1</td>\n",
       "      <td>0</td>\n",
       "      <td>0</td>\n",
       "    </tr>\n",
       "    <tr>\n",
       "      <th>1</th>\n",
       "      <td>0</td>\n",
       "      <td>2</td>\n",
       "      <td>2</td>\n",
       "      <td>1</td>\n",
       "      <td>0</td>\n",
       "      <td>60</td>\n",
       "      <td>0</td>\n",
       "      <td>1</td>\n",
       "      <td>70.0</td>\n",
       "      <td>68.0</td>\n",
       "      <td>...</td>\n",
       "      <td>0</td>\n",
       "      <td>0</td>\n",
       "      <td>0</td>\n",
       "      <td>0</td>\n",
       "      <td>0</td>\n",
       "      <td>0</td>\n",
       "      <td>0</td>\n",
       "      <td>1</td>\n",
       "      <td>0</td>\n",
       "      <td>0</td>\n",
       "    </tr>\n",
       "    <tr>\n",
       "      <th>2</th>\n",
       "      <td>0</td>\n",
       "      <td>3</td>\n",
       "      <td>5</td>\n",
       "      <td>1</td>\n",
       "      <td>0</td>\n",
       "      <td>60</td>\n",
       "      <td>0</td>\n",
       "      <td>1</td>\n",
       "      <td>72.0</td>\n",
       "      <td>71.0</td>\n",
       "      <td>...</td>\n",
       "      <td>0</td>\n",
       "      <td>0</td>\n",
       "      <td>0</td>\n",
       "      <td>0</td>\n",
       "      <td>0</td>\n",
       "      <td>0</td>\n",
       "      <td>0</td>\n",
       "      <td>1</td>\n",
       "      <td>0</td>\n",
       "      <td>0</td>\n",
       "    </tr>\n",
       "    <tr>\n",
       "      <th>3</th>\n",
       "      <td>0</td>\n",
       "      <td>1</td>\n",
       "      <td>5</td>\n",
       "      <td>0</td>\n",
       "      <td>0</td>\n",
       "      <td>60</td>\n",
       "      <td>0</td>\n",
       "      <td>1</td>\n",
       "      <td>69.0</td>\n",
       "      <td>30.0</td>\n",
       "      <td>...</td>\n",
       "      <td>0</td>\n",
       "      <td>0</td>\n",
       "      <td>0</td>\n",
       "      <td>0</td>\n",
       "      <td>0</td>\n",
       "      <td>0</td>\n",
       "      <td>0</td>\n",
       "      <td>1</td>\n",
       "      <td>0</td>\n",
       "      <td>0</td>\n",
       "    </tr>\n",
       "    <tr>\n",
       "      <th>4</th>\n",
       "      <td>1</td>\n",
       "      <td>2</td>\n",
       "      <td>3</td>\n",
       "      <td>0</td>\n",
       "      <td>0</td>\n",
       "      <td>60</td>\n",
       "      <td>0</td>\n",
       "      <td>1</td>\n",
       "      <td>70.0</td>\n",
       "      <td>65.0</td>\n",
       "      <td>...</td>\n",
       "      <td>0</td>\n",
       "      <td>0</td>\n",
       "      <td>0</td>\n",
       "      <td>0</td>\n",
       "      <td>0</td>\n",
       "      <td>0</td>\n",
       "      <td>0</td>\n",
       "      <td>1</td>\n",
       "      <td>0</td>\n",
       "      <td>0</td>\n",
       "    </tr>\n",
       "  </tbody>\n",
       "</table>\n",
       "<p>5 rows × 931 columns</p>\n",
       "</div>"
      ],
      "text/plain": [
       "   gender  highest_education  imd_band  age_band  num_of_prev_attempts  \\\n",
       "0       1                  2         9         2                     0   \n",
       "1       0                  2         2         1                     0   \n",
       "2       0                  3         5         1                     0   \n",
       "3       0                  1         5         0                     0   \n",
       "4       1                  2         3         0                     0   \n",
       "\n",
       "   studied_credits  disability  passed_course  assess_score_1  assess_score_2  \\\n",
       "0              240           0              1            78.0            85.0   \n",
       "1               60           0              1            70.0            68.0   \n",
       "2               60           0              1            72.0            71.0   \n",
       "3               60           0              1            69.0            30.0   \n",
       "4               60           0              1            70.0            65.0   \n",
       "\n",
       "   ...  module_CCC  module_DDD  module_EEE  module_FFF  module_GGG  \\\n",
       "0  ...           0           0           0           0           0   \n",
       "1  ...           0           0           0           0           0   \n",
       "2  ...           0           0           0           0           0   \n",
       "3  ...           0           0           0           0           0   \n",
       "4  ...           0           0           0           0           0   \n",
       "\n",
       "   presentation_0  presentation_2013B  presentation_2013J  presentation_2014B  \\\n",
       "0               0                   0                   1                   0   \n",
       "1               0                   0                   1                   0   \n",
       "2               0                   0                   1                   0   \n",
       "3               0                   0                   1                   0   \n",
       "4               0                   0                   1                   0   \n",
       "\n",
       "   presentation_2014J  \n",
       "0                   0  \n",
       "1                   0  \n",
       "2                   0  \n",
       "3                   0  \n",
       "4                   0  \n",
       "\n",
       "[5 rows x 931 columns]"
      ]
     },
     "execution_count": 2,
     "metadata": {},
     "output_type": "execute_result"
    }
   ],
   "source": [
    "path = '/Users/iairlinker/Documents/repos/coding_dojo_challenge/data/raw/modeling.csv'\n",
    "df = pd.read_csv(path)\n",
    "print(df.shape)\n",
    "df.head()"
   ]
  },
  {
   "cell_type": "markdown",
   "metadata": {},
   "source": [
    "### Processed before modeling"
   ]
  },
  {
   "cell_type": "code",
   "execution_count": 3,
   "metadata": {},
   "outputs": [
    {
     "data": {
      "text/plain": [
       "931"
      ]
     },
     "execution_count": 3,
     "metadata": {},
     "output_type": "execute_result"
    }
   ],
   "source": [
    "numerical_columns = identify_numerical_columns(df)\n",
    "len(numerical_columns)"
   ]
  },
  {
   "cell_type": "code",
   "execution_count": 4,
   "metadata": {},
   "outputs": [
    {
     "data": {
      "text/plain": [
       "['gender',\n",
       " 'disability',\n",
       " 'passed_course',\n",
       " 'module_0',\n",
       " 'module_AAA',\n",
       " 'module_BBB',\n",
       " 'module_CCC',\n",
       " 'module_DDD',\n",
       " 'module_EEE',\n",
       " 'module_FFF',\n",
       " 'module_GGG',\n",
       " 'presentation_0',\n",
       " 'presentation_2013B',\n",
       " 'presentation_2013J',\n",
       " 'presentation_2014B',\n",
       " 'presentation_2014J']"
      ]
     },
     "execution_count": 4,
     "metadata": {},
     "output_type": "execute_result"
    }
   ],
   "source": [
    "binary_columns = identify_binary_columns(df)\n",
    "len(binary_columns)\n",
    "binary_columns"
   ]
  },
  {
   "cell_type": "code",
   "execution_count": 5,
   "metadata": {},
   "outputs": [
    {
     "name": "stdout",
     "output_type": "stream",
     "text": [
      "50\n"
     ]
    },
    {
     "data": {
      "text/plain": [
       "['highest_education',\n",
       " 'imd_band',\n",
       " 'age_band',\n",
       " 'num_of_prev_attempts',\n",
       " 'assess_submitted_13',\n",
       " 'assess_submitted_14',\n",
       " 'sum_activities_-23',\n",
       " 'sum_activities_-22',\n",
       " 'sum_activities_-21',\n",
       " 'sum_activities_-20',\n",
       " 'sum_activities_-19',\n",
       " 'sum_activities_243',\n",
       " 'sum_activities_244',\n",
       " 'sum_activities_245',\n",
       " 'sum_activities_246',\n",
       " 'sum_activities_247',\n",
       " 'sum_activities_248',\n",
       " 'sum_activities_249',\n",
       " 'sum_activities_250',\n",
       " 'sum_activities_251',\n",
       " 'sum_activities_252',\n",
       " 'sum_click_252',\n",
       " 'sum_activities_253',\n",
       " 'sum_click_253',\n",
       " 'sum_activities_254',\n",
       " 'sum_activities_255',\n",
       " 'sum_activities_256',\n",
       " 'sum_click_256',\n",
       " 'sum_activities_257',\n",
       " 'sum_click_257',\n",
       " 'sum_activities_258',\n",
       " 'sum_click_258',\n",
       " 'sum_activities_259',\n",
       " 'sum_click_259',\n",
       " 'sum_activities_260',\n",
       " 'sum_click_260',\n",
       " 'sum_activities_261',\n",
       " 'sum_activities_262',\n",
       " 'sum_click_262',\n",
       " 'sum_activities_263',\n",
       " 'sum_click_263',\n",
       " 'sum_activities_264',\n",
       " 'sum_activities_265',\n",
       " 'sum_click_265',\n",
       " 'sum_activities_266',\n",
       " 'sum_click_266',\n",
       " 'sum_activities_267',\n",
       " 'sum_click_267',\n",
       " 'sum_activities_268',\n",
       " 'sum_click_268']"
      ]
     },
     "execution_count": 5,
     "metadata": {},
     "output_type": "execute_result"
    }
   ],
   "source": [
    "max_unique_values = 30\n",
    "filtered_columns = identify_columns_by_unique_values(df, max_unique_values)\n",
    "print(len(filtered_columns))\n",
    "filtered_columns\n"
   ]
  },
  {
   "cell_type": "code",
   "execution_count": 6,
   "metadata": {},
   "outputs": [],
   "source": [
    "ordinal_columns = ['highest_education', 'imd_band', 'age_band', 'num_of_prev_attempts','studied_credits']\n",
    "columns_to_remove = binary_columns + ordinal_columns\n",
    "numerical_columns = df.drop(columns=columns_to_remove, axis=1).columns.tolist()\n",
    "# i explored the unique values of the columns that were not removed to undertand the pattern in the names of thedata"
   ]
  },
  {
   "cell_type": "code",
   "execution_count": 7,
   "metadata": {},
   "outputs": [
    {
     "data": {
      "text/plain": [
       "array([ -1.,   3.,  -2.,   7.,   1.,   0.,   2.,  -3.,  -4.,   4.,  18.,\n",
       "        -7.,  -5.,  10.,  11.,  -9., -10.,   6.,   5.,  -8.,  -6., -14.,\n",
       "        14.,   8., -23.,  53., -13.,  22.,  20., -20.,  12., -22.,  47.,\n",
       "        28.,   9.,  72., -11.,  13.,  29., -18., -16., -12., -15.,  19.,\n",
       "       -25.,  17.,  15., -19.,  32.,  21.,  16.,  27.,  76., -17., -21.,\n",
       "        35.,  31., -24.,  34.,  86.,  40., -26., -31., -28., -35., -30.,\n",
       "       -27., -32.,  50.,  30., -29., -33., -49.,  87., -45.,  49., -34.,\n",
       "        63.,  91., -36.,  43.,  46.,  24.,  26., -43., -42., -40., -38.,\n",
       "       -39., -61.,  52., -44.])"
      ]
     },
     "execution_count": 7,
     "metadata": {},
     "output_type": "execute_result"
    }
   ],
   "source": [
    "df['assess_submitted_1'].unique()"
   ]
  },
  {
   "cell_type": "code",
   "execution_count": 8,
   "metadata": {},
   "outputs": [
    {
     "data": {
      "text/plain": [
       "array([  0.,  53.,  60.,  72., 100.,  82.,  67.,  92.,  80.,  90.,  57.,\n",
       "        77.,  74.,  62.,  85.,  71.,  69.,  65.,  56.,  55.,  75.,  66.,\n",
       "        70.,  79.,  86.,  78.,  83.,  40.,  50.,  35.,  84.,  87.,  46.,\n",
       "        73.,  61.,  48.,  68.,  64.,  81.,  91.,  99.,  43.,  63.,  39.,\n",
       "        14.,  89.,  93.,  58.,  41.,  42.,  88.,  51.,  95.,  54.,  12.,\n",
       "        45.,  59.,  76.,  36.,  52.,  38.,   5.,  20.,  15.,  44.,  10.,\n",
       "        37.,  47.,  94.,  49.,  34.,  11.,  96.,  23.,  97.,  25.,  33.,\n",
       "        19.,   8.,  30.,  21.,  32.,  13.,   6.,  26.,  98.,  18.,  22.,\n",
       "        31.,  24.,   3.,  27.,  28.,  29.,   7.,  16.,  17.,   9.,   4.])"
      ]
     },
     "execution_count": 8,
     "metadata": {},
     "output_type": "execute_result"
    }
   ],
   "source": [
    "df['assess_score_6'].unique()"
   ]
  },
  {
   "cell_type": "code",
   "execution_count": 9,
   "metadata": {},
   "outputs": [
    {
     "data": {
      "text/plain": [
       "array([0.000e+00, 4.920e+02, 9.900e+02, 6.240e+02, 1.600e+01, 2.450e+02,\n",
       "       1.190e+02, 3.050e+02, 3.380e+02, 5.500e+02, 4.770e+02, 2.000e+02,\n",
       "       2.200e+01, 1.000e+00, 6.300e+02, 1.653e+03, 5.590e+02, 5.580e+02,\n",
       "       3.990e+02, 5.100e+01, 8.060e+02, 9.500e+01, 2.340e+02, 1.200e+01,\n",
       "       2.800e+01, 3.600e+02, 1.380e+02, 2.700e+01, 5.400e+01, 1.500e+01,\n",
       "       1.100e+02, 7.500e+01, 1.800e+01, 7.560e+02, 2.000e+00, 1.650e+02,\n",
       "       6.000e+01, 3.000e+00, 4.000e+00, 9.100e+01, 9.000e+00, 8.400e+01,\n",
       "       2.080e+02, 6.300e+01, 4.180e+02, 2.400e+01, 1.000e+01, 6.000e+00,\n",
       "       7.700e+02, 1.280e+02, 8.800e+01, 9.900e+01, 3.000e+01, 7.000e+01,\n",
       "       4.400e+01, 3.600e+01, 4.070e+02, 4.000e+01, 1.344e+03, 1.400e+01,\n",
       "       6.500e+01, 3.640e+02, 3.120e+02, 5.000e+01, 2.001e+03, 2.500e+01,\n",
       "       3.080e+02])"
      ]
     },
     "execution_count": 9,
     "metadata": {},
     "output_type": "execute_result"
    }
   ],
   "source": [
    "df['activities_x_clicks_-20'].unique()"
   ]
  },
  {
   "cell_type": "code",
   "execution_count": 10,
   "metadata": {},
   "outputs": [
    {
     "data": {
      "text/plain": [
       "array([ 0., 41., 66., 52.,  8., 35., 17., 61., 26., 55., 53., 25., 11.,\n",
       "        1., 42., 87., 43., 62., 57., 19.,  4.,  7., 36., 23., 18.,  9.,\n",
       "        5., 22., 15., 84.,  2., 10.,  3.,  6., 13., 12., 38., 16., 14.,\n",
       "       37., 56., 28., 24., 69.])"
      ]
     },
     "execution_count": 10,
     "metadata": {},
     "output_type": "execute_result"
    }
   ],
   "source": [
    "df['sum_click_-20'].unique()"
   ]
  },
  {
   "cell_type": "code",
   "execution_count": 11,
   "metadata": {},
   "outputs": [
    {
     "data": {
      "text/plain": [
       "array([ 0., 12., 15.,  2.,  7.,  5., 13., 10.,  9.,  8.,  1., 19.,  3.,\n",
       "        4.,  6., 11., 22., 24., 29.])"
      ]
     },
     "execution_count": 11,
     "metadata": {},
     "output_type": "execute_result"
    }
   ],
   "source": [
    "df['sum_activities_-20'].unique()"
   ]
  },
  {
   "cell_type": "code",
   "execution_count": 12,
   "metadata": {},
   "outputs": [],
   "source": [
    "X_train, X_test, y_train, y_test = train_test_split(df.drop(columns='passed_course'), df['passed_course'], test_size=0.25, random_state=42)\n",
    "scaler = StandardScaler()\n",
    "X_train_scaled = scaler.fit_transform(X_train)\n",
    "X_test_scaled = scaler.transform(X_test)"
   ]
  },
  {
   "cell_type": "markdown",
   "metadata": {},
   "source": [
    "### Use PCA to prepare the data for modeling."
   ]
  },
  {
   "cell_type": "code",
   "execution_count": 13,
   "metadata": {},
   "outputs": [
    {
     "data": {
      "image/png": "[encoded data removed]",
      "text/plain": [
       "<Figure size 1000x1500 with 1 Axes>"
      ]
     },
     "metadata": {},
     "output_type": "display_data"
    }
   ],
   "source": [
    "pca = PCA(n_components=0.95) \n",
    "X_train_pca = pca.fit_transform(X_train_scaled)\n",
    "explained_variance_ratio = np.cumsum(pca.explained_variance_ratio_)\n",
    "plt.figure(figsize=(10, 15))\n",
    "plt.plot(range(1, len(explained_variance_ratio) + 1), explained_variance_ratio, marker='o', linestyle='--')\n",
    "plt.xlabel('Number of Components')\n",
    "plt.ylabel('Cumulative Explained Variance')\n",
    "plt.title('Explained Variance vs. Number of Components')\n",
    "plt.grid(True)\n",
    "plt.show()\n"
   ]
  },
  {
   "cell_type": "code",
   "execution_count": 14,
   "metadata": {},
   "outputs": [
    {
     "name": "stdout",
     "output_type": "stream",
     "text": [
      "Number of components that explain 95% of variance: 341\n"
     ]
    }
   ],
   "source": [
    "pca = PCA(n_components=0.9) \n",
    "X_train_pca = pca.fit_transform(X_train_scaled)\n",
    "X_test_pca = pca.transform(X_test_scaled)\n",
    "n_components = pca.n_components_\n",
    "print(f'Number of components that explain 95% of variance: {n_components}')"
   ]
  },
  {
   "cell_type": "markdown",
   "metadata": {},
   "source": [
    "### Use a deep learning model to predict which students will pass and which will fail"
   ]
  },
  {
   "cell_type": "code",
   "execution_count": 15,
   "metadata": {},
   "outputs": [
    {
     "name": "stdout",
     "output_type": "stream",
     "text": [
      "2.4.1\n",
      "Is PyTorch using MPS (Apple GPU)? True\n"
     ]
    }
   ],
   "source": [
    "import torch\n",
    "print(torch.__version__)\n",
    "print(\"Is PyTorch using MPS (Apple GPU)?\", torch.backends.mps.is_available())"
   ]
  },
  {
   "cell_type": "code",
   "execution_count": 16,
   "metadata": {},
   "outputs": [],
   "source": [
    "import torch\n",
    "import torch.nn as nn\n",
    "import torch.optim as optim"
   ]
  },
  {
   "cell_type": "code",
   "execution_count": 17,
   "metadata": {},
   "outputs": [
    {
     "name": "stdout",
     "output_type": "stream",
     "text": [
      "Epoch [10/50], Loss: 0.5853\n",
      "Epoch [20/50], Loss: 0.4976\n",
      "Epoch [30/50], Loss: 0.4358\n",
      "Epoch [40/50], Loss: 0.3890\n",
      "Epoch [50/50], Loss: 0.3533\n"
     ]
    }
   ],
   "source": [
    "class Model1(nn.Module):\n",
    "    def __init__(self, input_dim):\n",
    "        super(Model1, self).__init__()\n",
    "        self.layer1 = nn.Linear(input_dim, 32)\n",
    "        self.output = nn.Linear(32, 1)\n",
    "        self.sigmoid = nn.Sigmoid()\n",
    "\n",
    "    def forward(self, x):\n",
    "        x = torch.relu(self.layer1(x))\n",
    "        x = self.sigmoid(self.output(x))\n",
    "        return x\n",
    "\n",
    "input_dim = X_train_pca.shape[1]\n",
    "model_1 = Model1(input_dim)\n",
    "\n",
    "criterion = nn.BCELoss()\n",
    "optimizer = optim.Adam(model_1.parameters(), lr=0.001)\n",
    "\n",
    "def train_model(model, criterion, optimizer, X_train, y_train, num_epochs=50):\n",
    "    for epoch in range(num_epochs):\n",
    "        model.train()\n",
    "        optimizer.zero_grad()\n",
    "        outputs = model(X_train)\n",
    "        loss = criterion(outputs, y_train)\n",
    "        loss.backward()\n",
    "        optimizer.step()\n",
    "        if (epoch+1) % 10 == 0:\n",
    "            print(f'Epoch [{epoch+1}/{num_epochs}], Loss: {loss.item():.4f}')\n",
    "\n",
    "X_train_tensor = torch.tensor(X_train_pca, dtype=torch.float32)\n",
    "y_train_tensor = torch.tensor(y_train.values, dtype=torch.float32).unsqueeze(1)\n",
    "train_model(model_1, criterion, optimizer, X_train_tensor, y_train_tensor)\n"
   ]
  },
  {
   "cell_type": "code",
   "execution_count": 18,
   "metadata": {},
   "outputs": [
    {
     "name": "stdout",
     "output_type": "stream",
     "text": [
      "Epoch [10/50], Loss: 0.6279\n",
      "Epoch [20/50], Loss: 0.5659\n",
      "Epoch [30/50], Loss: 0.5023\n",
      "Epoch [40/50], Loss: 0.4378\n",
      "Epoch [50/50], Loss: 0.3808\n"
     ]
    }
   ],
   "source": [
    "class Model2(nn.Module):\n",
    "    def __init__(self, input_dim):\n",
    "        super(Model2, self).__init__()\n",
    "        self.layer1 = nn.Linear(input_dim, 32)\n",
    "        self.dropout = nn.Dropout(0.2)  # Dropout layer for regularization\n",
    "        self.layer2 = nn.Linear(32, 16)\n",
    "        self.output = nn.Linear(16, 1)\n",
    "        self.sigmoid = nn.Sigmoid()\n",
    "\n",
    "    def forward(self, x):\n",
    "        x = torch.relu(self.layer1(x))\n",
    "        x = self.dropout(x)  # Apply dropout after the first layer\n",
    "        x = torch.relu(self.layer2(x))\n",
    "        x = self.sigmoid(self.output(x))\n",
    "        return x\n",
    "\n",
    "model_2 = Model2(input_dim)\n",
    "optimizer = optim.Adam(model_2.parameters(), lr=0.001)\n",
    "train_model(model_2, criterion, optimizer, X_train_tensor, y_train_tensor)\n"
   ]
  },
  {
   "cell_type": "code",
   "execution_count": 19,
   "metadata": {},
   "outputs": [
    {
     "name": "stdout",
     "output_type": "stream",
     "text": [
      "Epoch [10/50], Loss: 0.5954\n",
      "Epoch [20/50], Loss: 0.4990\n",
      "Epoch [30/50], Loss: 0.4128\n",
      "Epoch [40/50], Loss: 0.3592\n",
      "Epoch [50/50], Loss: 0.3257\n"
     ]
    }
   ],
   "source": [
    "class Model3(nn.Module):\n",
    "    def __init__(self, input_dim):\n",
    "        super(Model3, self).__init__()\n",
    "        self.layer1 = nn.Linear(input_dim, 64)\n",
    "        self.layer2 = nn.Linear(64, 32)\n",
    "        self.output = nn.Linear(32, 1)\n",
    "        self.sigmoid = nn.Sigmoid()\n",
    "\n",
    "    def forward(self, x):\n",
    "        x = torch.relu(self.layer1(x))\n",
    "        x = torch.relu(self.layer2(x))\n",
    "        x = self.sigmoid(self.output(x))\n",
    "        return x\n",
    "\n",
    "model_3 = Model3(input_dim)\n",
    "optimizer = optim.Adam(model_3.parameters(), lr=0.001, weight_decay=0.01)\n",
    "train_model(model_3, criterion, optimizer, X_train_tensor, y_train_tensor)"
   ]
  },
  {
   "cell_type": "markdown",
   "metadata": {},
   "source": [
    "### Evaluate the Models"
   ]
  },
  {
   "cell_type": "markdown",
   "metadata": {},
   "source": [
    "#### Evaluate each model with multiple appropriate metrics."
   ]
  },
  {
   "cell_type": "code",
   "execution_count": 20,
   "metadata": {},
   "outputs": [
    {
     "name": "stdout",
     "output_type": "stream",
     "text": [
      "Model 1 Performance:\n",
      "              precision    recall  f1-score   support\n",
      "\n",
      "           0       0.76      0.62      0.68       768\n",
      "           1       0.89      0.94      0.91      2417\n",
      "\n",
      "    accuracy                           0.86      3185\n",
      "   macro avg       0.82      0.78      0.80      3185\n",
      "weighted avg       0.85      0.86      0.86      3185\n",
      "\n",
      "Model 2 Performance:\n",
      "              precision    recall  f1-score   support\n",
      "\n",
      "           0       0.82      0.49      0.62       768\n",
      "           1       0.86      0.97      0.91      2417\n",
      "\n",
      "    accuracy                           0.85      3185\n",
      "   macro avg       0.84      0.73      0.76      3185\n",
      "weighted avg       0.85      0.85      0.84      3185\n",
      "\n",
      "Model 3 Performance:\n",
      "              precision    recall  f1-score   support\n",
      "\n",
      "           0       0.81      0.56      0.66       768\n",
      "           1       0.87      0.96      0.91      2417\n",
      "\n",
      "    accuracy                           0.86      3185\n",
      "   macro avg       0.84      0.76      0.79      3185\n",
      "weighted avg       0.86      0.86      0.85      3185\n",
      "\n",
      "Model 1 AUC-ROC: 0.78\n",
      "Model 2 AUC-ROC: 0.73\n",
      "Model 3 AUC-ROC: 0.76\n"
     ]
    }
   ],
   "source": [
    "from sklearn.metrics import classification_report, roc_auc_score\n",
    "\n",
    "def predict_model(model, X_test):\n",
    "    model.eval()\n",
    "    with torch.no_grad():\n",
    "        outputs = model(X_test)\n",
    "        return (outputs > 0.5).float()\n",
    "\n",
    "X_test_tensor = torch.tensor(X_test_pca, dtype=torch.float32)\n",
    "y_test_tensor = torch.tensor(y_test.values, dtype=torch.float32)\n",
    "\n",
    "y_pred_1 = predict_model(model_1, X_test_tensor).numpy()\n",
    "y_pred_2 = predict_model(model_2, X_test_tensor).numpy()\n",
    "y_pred_3 = predict_model(model_3, X_test_tensor).numpy()\n",
    "\n",
    "print(\"Model 1 Performance:\")\n",
    "print(classification_report(y_test, y_pred_1))\n",
    "\n",
    "print(\"Model 2 Performance:\")\n",
    "print(classification_report(y_test, y_pred_2))\n",
    "\n",
    "print(\"Model 3 Performance:\")\n",
    "print(classification_report(y_test, y_pred_3))\n",
    "\n",
    "auc_1 = roc_auc_score(y_test, y_pred_1)\n",
    "auc_2 = roc_auc_score(y_test, y_pred_2)\n",
    "auc_3 = roc_auc_score(y_test, y_pred_3)\n",
    "\n",
    "print(f'Model 1 AUC-ROC: {auc_1:.2f}')\n",
    "print(f'Model 2 AUC-ROC: {auc_2:.2f}')\n",
    "print(f'Model 3 AUC-ROC: {auc_3:.2f}')"
   ]
  },
  {
   "cell_type": "markdown",
   "metadata": {},
   "source": [
    "### Choose a final model and justify your choice.\n",
    "\n",
    "**I choose model 3 because it has the biggest recall score for the ones who are going to fail, does not lose much on the AUC-ROC score and also the best weighted average score on precision, recall and near to the best of f1-score. \n",
    "\n",
    "### Based on those metrics, explain in writing how well your model will solve the business problem.\n",
    "\n",
    "Since i want to maximize the size of the ones who i got to help before they fail and dont get to much students wrong targeted, this is the best model."
   ]
  }
 ],
 "metadata": {
  "kernelspec": {
   "display_name": "coding_dojo_challenge",
   "language": "python",
   "name": "python3"
  },
  "language_info": {
   "codemirror_mode": {
    "name": "ipython",
    "version": 3
   },
   "file_extension": ".py",
   "mimetype": "text/x-python",
   "name": "python",
   "nbconvert_exporter": "python",
   "pygments_lexer": "ipython3",
   "version": "3.12.2"
  }
 },
 "nbformat": 4,
 "nbformat_minor": 2
}
